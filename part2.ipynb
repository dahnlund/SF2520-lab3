{
 "cells": [
  {
   "cell_type": "code",
   "execution_count": 35,
   "metadata": {},
   "outputs": [],
   "source": [
    "import numpy as np\n",
    "from scipy.sparse import diags, kron, eye, linalg\n",
    "from scipy.sparse.linalg import spsolve\n",
    "import matplotlib.pyplot as plt\n",
    "from matplotlib.animation import FuncAnimation\n",
    "%matplotlib qt\n",
    "\n",
    "# Coefficients\n",
    "Lx = 12\n",
    "Ly = 5\n",
    "T_ext = 25\n",
    "\n",
    "# A\n",
    "N = 240\n",
    "h = Lx / N\n",
    "M = int(Ly / h)\n"
   ]
  },
  {
   "cell_type": "code",
   "execution_count": 36,
   "metadata": {},
   "outputs": [],
   "source": [
    "def F_func(x, y):\n",
    "    return 100 * np.exp(-1/2 * (x - 4)**2 - 4 * (y - 1)**2)\n",
    "\n",
    "x = np.arange(h, Lx, h)\n",
    "y = np.arange(h, Ly, h)\n",
    "X, Y = np.meshgrid(x, y)\n",
    "F = F_func(X, Y).T\n",
    "\n",
    "# Create the sparse matrices Sx and Sy\n",
    "Sx = (1 / h**2) * diags([1, -2, 1], [-1, 0, 1], shape=(N-1, N-1),format='csc')\n",
    "Sy = (1 / h**2) * diags([1, -2, 1], [-1, 0, 1], shape=(M-1, M-1), format='csc')\n",
    "\n",
    "# Apply boundary conditions\n",
    "Sx[0, 0] = -2 / (3 * h**2)\n",
    "Sx[0, 1] = 2 / (3 * h**2)\n",
    "Sx[-1, -1] = -2 / (3 * h**2)\n",
    "Sx[-1, -2] = 2 / (3 * h**2)\n",
    "\n",
    "Sy[-1, -1] = -2 / (3 * h**2)\n",
    "Sy[-1, -2] = 2 / (3 * h**2)\n",
    "\n",
    "# Create the operator A using Kronecker products\n",
    "A = kron(eye(M-1), Sx, format='csc') + kron(Sy, eye(N-1), format='csc')\n",
    "\n",
    "F[:, 0] = F[:, 0] + T_ext / h**2\n",
    "f = F.reshape(((N-1) * (M-1), 1), order='F')\n",
    "\n",
    "dt = 0.1\n",
    "T = 40\n",
    "\n",
    "u0 = T_ext * np.ones(f.shape)\n",
    "\n",
    "# Crank Nicolson\n",
    "tau = np.arange(0, T, dt)\n",
    "saved_u = np.zeros((len(u0), len(tau)))\n",
    "saved_u[:, 0] = u0[:, 0]\n",
    "\n",
    "uk = u0\n",
    "\n",
    "I = eye(len(u0), format='csc')\n",
    "\n",
    "for i in range(len(tau)):\n",
    "    I = eye(len(uk), format='csc')\n",
    "    A_half = I - 0.5 * dt * A\n",
    "    b = (I + 0.5 * dt * A).dot(uk) + dt * f\n",
    "    u_new = spsolve(A_half, b)\n",
    "    saved_u[:, i] = u_new\n",
    "    uk = np.array([u_new]).T\n",
    "\n",
    "\n",
    "# Reshape to 3D array and apply boundaries\n",
    "u = saved_u.reshape(N - 1, M - 1, int(T/dt),order='F')\n",
    "u_y0 = T_ext * np.ones((N - 1,int(T/dt)))\n",
    "u_M = 1/3 * (4 * u[:, -1,:] - u[:, -2,:])\n",
    "u_y0 = u_y0[:, np.newaxis, :]\n",
    "u_M = u_M[:, np.newaxis, :]\n",
    "u = np.concatenate((u_y0,u,u_M),axis=1)\n",
    "u_N = 1/3 * (4 * u[-1, :,:] - u[-2, :,:])\n",
    "u_x0 = 1/3 * (4 * u[0, :,:] - u[1, :,:])\n",
    "u_N = u_N[np.newaxis,:, :]\n",
    "u_x0 = u_x0[np.newaxis,:, :]\n",
    "u = np.concatenate((u_x0,u,u_N),axis=0)\n",
    "\n",
    "\n",
    "# Create a figure and 3D axis for the animation\n",
    "fig = plt.figure()\n",
    "ax = fig.add_subplot(111, projection='3d')\n",
    "x, y = np.meshgrid(np.arange(0, Lx + h, h), np.arange(0, Ly + h, h))\n",
    "x, y = x.T, y.T  # Transpose x and y to match the shape of u\n",
    "\n",
    "# Function to update the 3D plot for each frame\n",
    "def update(frame):\n",
    "    ax.clear()\n",
    "    ax.plot_surface(x, y, u[:,:,frame], cmap='viridis')\n",
    "    ax.set_xlabel(\"x\")\n",
    "    ax.set_ylabel(\"y\")\n",
    "    ax.set_zlabel(\"Temperature\")\n",
    "    ax.set_zlim(25,70)\n",
    "    ax.set_xlim(0,Lx)\n",
    "    ax.set_ylim(0,Ly)\n",
    "    ax.set_title(f'Time {np.round(frame*dt+dt,2)} seconds')\n",
    "\n",
    "ani = FuncAnimation(fig, update, frames=range(int(T / dt)), repeat=False,interval = 1)\n"
   ]
  },
  {
   "cell_type": "code",
   "execution_count": 31,
   "metadata": {},
   "outputs": [
    {
     "name": "stdout",
     "output_type": "stream",
     "text": [
      "(121, 51)\n",
      "u(6,2,40) = 46.9626\n"
     ]
    },
    {
     "data": {
      "text/plain": [
       "[<matplotlib.lines.Line2D at 0x14c2376d0>]"
      ]
     },
     "execution_count": 31,
     "metadata": {},
     "output_type": "execute_result"
    }
   ],
   "source": [
    "\n",
    "# C\n",
    "u_62 = u[int(6/h)][int(2/h)]\n",
    "\n",
    "print(f\"u(6,2,40) = {u_62[-1]:.4f}\")\n",
    "\n",
    "plt.plot(tau,u_62)\n"
   ]
  },
  {
   "attachments": {},
   "cell_type": "markdown",
   "metadata": {},
   "source": []
  }
 ],
 "metadata": {
  "kernelspec": {
   "display_name": "Python 3",
   "language": "python",
   "name": "python3"
  },
  "language_info": {
   "codemirror_mode": {
    "name": "ipython",
    "version": 3
   },
   "file_extension": ".py",
   "mimetype": "text/x-python",
   "name": "python",
   "nbconvert_exporter": "python",
   "pygments_lexer": "ipython3",
   "version": "3.10.7"
  },
  "orig_nbformat": 4
 },
 "nbformat": 4,
 "nbformat_minor": 2
}
