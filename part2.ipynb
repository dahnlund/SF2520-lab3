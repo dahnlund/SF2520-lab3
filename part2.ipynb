{
 "cells": [
  {
   "cell_type": "code",
   "execution_count": 17,
   "metadata": {},
   "outputs": [],
   "source": [
    "import numpy as np\n",
    "from scipy.sparse import diags, kron, eye, linalg\n",
    "from scipy.sparse.linalg import spsolve, splu\n",
    "import matplotlib.pyplot as plt\n",
    "from matplotlib import animation, cm\n",
    "from matplotlib.animation import FuncAnimation\n",
    "%matplotlib qt\n",
    "\n",
    "# Coefficients\n",
    "Lx = 12\n",
    "Ly = 5\n",
    "T_ext = 25\n",
    "\n",
    "# A\n",
    "N = 480\n",
    "h = Lx / N\n",
    "M = int(Ly / h)\n"
   ]
  },
  {
   "cell_type": "code",
   "execution_count": 18,
   "metadata": {},
   "outputs": [],
   "source": [
    "def F_func(x, y):\n",
    "    return 100 * np.exp(-1/2 * (x - 4)**2 - 4 * (y - 1)**2)\n",
    "\n",
    "x = np.arange(h, Lx, h)\n",
    "y = np.arange(h, Ly, h)\n",
    "X, Y = np.meshgrid(x, y)\n",
    "F = F_func(X, Y).T\n",
    "\n",
    "# Create the sparse matrices Sx and Sy\n",
    "Sx = (1 / h**2) * diags([1, -2, 1], [-1, 0, 1], shape=(N-1, N-1),format='csc')\n",
    "Sy = (1 / h**2) * diags([1, -2, 1], [-1, 0, 1], shape=(M-1, M-1), format='csc')\n",
    "\n",
    "# Apply boundary conditions\n",
    "Sx[0, 0] = -2 / (3 * h**2)\n",
    "Sx[0, 1] = 2 / (3 * h**2)\n",
    "Sx[-1, -1] = -2 / (3 * h**2)\n",
    "Sx[-1, -2] = 2 / (3 * h**2)\n",
    "\n",
    "Sy[-1, -1] = -2 / (3 * h**2)\n",
    "Sy[-1, -2] = 2 / (3 * h**2)\n",
    "\n",
    "# Create the operator A using Kronecker products\n",
    "A = kron(eye(M-1), Sx, format='csc') + kron(Sy, eye(N-1), format='csc')\n",
    "\n",
    "F[:, 0] = F[:, 0] + T_ext / h**2\n",
    "f = F.reshape(((N-1) * (M-1), 1), order='F')\n",
    "\n",
    "dt = 0.1\n",
    "T = 40\n",
    "\n",
    "u0 = T_ext * np.ones(f.shape)\n",
    "\n",
    "# Crank Nicolson\n",
    "tau = np.arange(0, T+dt, dt)\n",
    "saved_u = np.zeros((len(u0), len(tau)))\n",
    "saved_u[:, 0] = u0[:, 0]\n",
    "\n",
    "uk = u0\n",
    "\n",
    "I = eye(len(u0), format='csc')\n",
    "LHS = splu(I - 1/2 * dt * A)\n",
    "for i in range(len(tau)-1):\n",
    "    RHS = (I + 1/2 * dt * A).dot(uk) + dt * f\n",
    "    u_new = LHS.solve(RHS)\n",
    "    saved_u[:, i+1] = u_new[:,0]\n",
    "    uk = u_new\n",
    "\n",
    "\n",
    "# Reshape to 3D array and apply boundaries\n",
    "u = saved_u.reshape(N - 1, M - 1, int(T/dt)+1,order='F')\n",
    "u_y0 = T_ext * np.ones((N - 1,int(T/dt)+1))\n",
    "u_M = 1/3 * (4 * u[:, -1,:] - u[:, -2,:])\n",
    "u_y0 = u_y0[:, np.newaxis, :]\n",
    "u_M = u_M[:, np.newaxis, :]\n",
    "u = np.concatenate((u_y0,u,u_M),axis=1)\n",
    "u_N = 1/3 * (4 * u[-1, :,:] - u[-2, :,:])\n",
    "u_x0 = 1/3 * (4 * u[0, :,:] - u[1, :,:])\n",
    "u_N = u_N[np.newaxis,:, :]\n",
    "u_x0 = u_x0[np.newaxis,:, :]\n",
    "u = np.concatenate((u_x0,u,u_N),axis=0)\n",
    "\n",
    "x, y = np.meshgrid(np.arange(0, Lx + h, h), np.arange(0, Ly + h, h))\n",
    "x, y = x.T, y.T  # Transpose x and y to match the shape of u"
   ]
  },
  {
   "cell_type": "code",
   "execution_count": 23,
   "metadata": {},
   "outputs": [
    {
     "name": "stderr",
     "output_type": "stream",
     "text": [
      "MovieWriter ffmpeg unavailable; using Pillow instead.\n"
     ]
    },
    {
     "ename": "KeyboardInterrupt",
     "evalue": "",
     "output_type": "error",
     "traceback": [
      "\u001b[0;31m---------------------------------------------------------------------------\u001b[0m",
      "\u001b[0;31mKeyboardInterrupt\u001b[0m                         Traceback (most recent call last)",
      "\u001b[1;32m/Users/david/KTH/SF2520/lab3/part2.ipynb Cell 3\u001b[0m line \u001b[0;36m1\n\u001b[1;32m     <a href='vscode-notebook-cell:/Users/david/KTH/SF2520/lab3/part2.ipynb#X10sZmlsZQ%3D%3D?line=13'>14</a>\u001b[0m     ax\u001b[39m.\u001b[39mset_title(\u001b[39mf\u001b[39m\u001b[39m'\u001b[39m\u001b[39mTime \u001b[39m\u001b[39m{\u001b[39;00mnp\u001b[39m.\u001b[39mround(frame\u001b[39m*\u001b[39mdt\u001b[39m+\u001b[39mdt,\u001b[39m2\u001b[39m)\u001b[39m}\u001b[39;00m\u001b[39m seconds\u001b[39m\u001b[39m'\u001b[39m)\n\u001b[1;32m     <a href='vscode-notebook-cell:/Users/david/KTH/SF2520/lab3/part2.ipynb#X10sZmlsZQ%3D%3D?line=15'>16</a>\u001b[0m ani \u001b[39m=\u001b[39m FuncAnimation(fig, update, frames\u001b[39m=\u001b[39m\u001b[39mrange\u001b[39m(\u001b[39mint\u001b[39m(T \u001b[39m/\u001b[39m dt)), repeat\u001b[39m=\u001b[39m\u001b[39mFalse\u001b[39;00m, interval \u001b[39m=\u001b[39m \u001b[39m1\u001b[39m)\n\u001b[0;32m---> <a href='vscode-notebook-cell:/Users/david/KTH/SF2520/lab3/part2.ipynb#X10sZmlsZQ%3D%3D?line=16'>17</a>\u001b[0m ani\u001b[39m.\u001b[39;49msave(\u001b[39m'\u001b[39;49m\u001b[39manimation.gif\u001b[39;49m\u001b[39m'\u001b[39;49m, fps\u001b[39m=\u001b[39;49m\u001b[39m30\u001b[39;49m)\n",
      "File \u001b[0;32m/Library/Frameworks/Python.framework/Versions/3.10/lib/python3.10/site-packages/matplotlib/animation.py:1109\u001b[0m, in \u001b[0;36mAnimation.save\u001b[0;34m(self, filename, writer, fps, dpi, codec, bitrate, extra_args, metadata, extra_anim, savefig_kwargs, progress_callback)\u001b[0m\n\u001b[1;32m   1107\u001b[0m         progress_callback(frame_number, total_frames)\n\u001b[1;32m   1108\u001b[0m         frame_number \u001b[39m+\u001b[39m\u001b[39m=\u001b[39m \u001b[39m1\u001b[39m\n\u001b[0;32m-> 1109\u001b[0m writer\u001b[39m.\u001b[39;49mgrab_frame(\u001b[39m*\u001b[39;49m\u001b[39m*\u001b[39;49msavefig_kwargs)\n",
      "File \u001b[0;32m/Library/Frameworks/Python.framework/Versions/3.10/lib/python3.10/site-packages/matplotlib/animation.py:509\u001b[0m, in \u001b[0;36mPillowWriter.grab_frame\u001b[0;34m(self, **savefig_kwargs)\u001b[0m\n\u001b[1;32m    507\u001b[0m _validate_grabframe_kwargs(savefig_kwargs)\n\u001b[1;32m    508\u001b[0m buf \u001b[39m=\u001b[39m BytesIO()\n\u001b[0;32m--> 509\u001b[0m \u001b[39mself\u001b[39;49m\u001b[39m.\u001b[39;49mfig\u001b[39m.\u001b[39;49msavefig(\n\u001b[1;32m    510\u001b[0m     buf, \u001b[39m*\u001b[39;49m\u001b[39m*\u001b[39;49m{\u001b[39m*\u001b[39;49m\u001b[39m*\u001b[39;49msavefig_kwargs, \u001b[39m\"\u001b[39;49m\u001b[39mformat\u001b[39;49m\u001b[39m\"\u001b[39;49m: \u001b[39m\"\u001b[39;49m\u001b[39mrgba\u001b[39;49m\u001b[39m\"\u001b[39;49m, \u001b[39m\"\u001b[39;49m\u001b[39mdpi\u001b[39;49m\u001b[39m\"\u001b[39;49m: \u001b[39mself\u001b[39;49m\u001b[39m.\u001b[39;49mdpi})\n\u001b[1;32m    511\u001b[0m \u001b[39mself\u001b[39m\u001b[39m.\u001b[39m_frames\u001b[39m.\u001b[39mappend(Image\u001b[39m.\u001b[39mfrombuffer(\n\u001b[1;32m    512\u001b[0m     \u001b[39m\"\u001b[39m\u001b[39mRGBA\u001b[39m\u001b[39m\"\u001b[39m, \u001b[39mself\u001b[39m\u001b[39m.\u001b[39mframe_size, buf\u001b[39m.\u001b[39mgetbuffer(), \u001b[39m\"\u001b[39m\u001b[39mraw\u001b[39m\u001b[39m\"\u001b[39m, \u001b[39m\"\u001b[39m\u001b[39mRGBA\u001b[39m\u001b[39m\"\u001b[39m, \u001b[39m0\u001b[39m, \u001b[39m1\u001b[39m))\n",
      "File \u001b[0;32m/Library/Frameworks/Python.framework/Versions/3.10/lib/python3.10/site-packages/matplotlib/figure.py:3390\u001b[0m, in \u001b[0;36mFigure.savefig\u001b[0;34m(self, fname, transparent, **kwargs)\u001b[0m\n\u001b[1;32m   3388\u001b[0m     \u001b[39mfor\u001b[39;00m ax \u001b[39min\u001b[39;00m \u001b[39mself\u001b[39m\u001b[39m.\u001b[39maxes:\n\u001b[1;32m   3389\u001b[0m         _recursively_make_axes_transparent(stack, ax)\n\u001b[0;32m-> 3390\u001b[0m \u001b[39mself\u001b[39;49m\u001b[39m.\u001b[39;49mcanvas\u001b[39m.\u001b[39;49mprint_figure(fname, \u001b[39m*\u001b[39;49m\u001b[39m*\u001b[39;49mkwargs)\n",
      "File \u001b[0;32m/Library/Frameworks/Python.framework/Versions/3.10/lib/python3.10/site-packages/matplotlib/backends/backend_qtagg.py:75\u001b[0m, in \u001b[0;36mFigureCanvasQTAgg.print_figure\u001b[0;34m(self, *args, **kwargs)\u001b[0m\n\u001b[1;32m     74\u001b[0m \u001b[39mdef\u001b[39;00m \u001b[39mprint_figure\u001b[39m(\u001b[39mself\u001b[39m, \u001b[39m*\u001b[39margs, \u001b[39m*\u001b[39m\u001b[39m*\u001b[39mkwargs):\n\u001b[0;32m---> 75\u001b[0m     \u001b[39msuper\u001b[39;49m()\u001b[39m.\u001b[39;49mprint_figure(\u001b[39m*\u001b[39;49margs, \u001b[39m*\u001b[39;49m\u001b[39m*\u001b[39;49mkwargs)\n\u001b[1;32m     76\u001b[0m     \u001b[39m# In some cases, Qt will itself trigger a paint event after closing the file\u001b[39;00m\n\u001b[1;32m     77\u001b[0m     \u001b[39m# save dialog. When that happens, we need to be sure that the internal canvas is\u001b[39;00m\n\u001b[1;32m     78\u001b[0m     \u001b[39m# re-drawn. However, if the user is using an automatically-chosen Qt backend but\u001b[39;00m\n\u001b[1;32m     79\u001b[0m     \u001b[39m# saving with a different backend (such as pgf), we do not want to trigger a\u001b[39;00m\n\u001b[1;32m     80\u001b[0m     \u001b[39m# full draw in Qt, so just set the flag for next time.\u001b[39;00m\n\u001b[1;32m     81\u001b[0m     \u001b[39mself\u001b[39m\u001b[39m.\u001b[39m_draw_pending \u001b[39m=\u001b[39m \u001b[39mTrue\u001b[39;00m\n",
      "File \u001b[0;32m/Library/Frameworks/Python.framework/Versions/3.10/lib/python3.10/site-packages/matplotlib/backend_bases.py:2187\u001b[0m, in \u001b[0;36mFigureCanvasBase.print_figure\u001b[0;34m(self, filename, dpi, facecolor, edgecolor, orientation, format, bbox_inches, pad_inches, bbox_extra_artists, backend, **kwargs)\u001b[0m\n\u001b[1;32m   2183\u001b[0m \u001b[39mtry\u001b[39;00m:\n\u001b[1;32m   2184\u001b[0m     \u001b[39m# _get_renderer may change the figure dpi (as vector formats\u001b[39;00m\n\u001b[1;32m   2185\u001b[0m     \u001b[39m# force the figure dpi to 72), so we need to set it again here.\u001b[39;00m\n\u001b[1;32m   2186\u001b[0m     \u001b[39mwith\u001b[39;00m cbook\u001b[39m.\u001b[39m_setattr_cm(\u001b[39mself\u001b[39m\u001b[39m.\u001b[39mfigure, dpi\u001b[39m=\u001b[39mdpi):\n\u001b[0;32m-> 2187\u001b[0m         result \u001b[39m=\u001b[39m print_method(\n\u001b[1;32m   2188\u001b[0m             filename,\n\u001b[1;32m   2189\u001b[0m             facecolor\u001b[39m=\u001b[39;49mfacecolor,\n\u001b[1;32m   2190\u001b[0m             edgecolor\u001b[39m=\u001b[39;49medgecolor,\n\u001b[1;32m   2191\u001b[0m             orientation\u001b[39m=\u001b[39;49morientation,\n\u001b[1;32m   2192\u001b[0m             bbox_inches_restore\u001b[39m=\u001b[39;49m_bbox_inches_restore,\n\u001b[1;32m   2193\u001b[0m             \u001b[39m*\u001b[39;49m\u001b[39m*\u001b[39;49mkwargs)\n\u001b[1;32m   2194\u001b[0m \u001b[39mfinally\u001b[39;00m:\n\u001b[1;32m   2195\u001b[0m     \u001b[39mif\u001b[39;00m bbox_inches \u001b[39mand\u001b[39;00m restore_bbox:\n",
      "File \u001b[0;32m/Library/Frameworks/Python.framework/Versions/3.10/lib/python3.10/site-packages/matplotlib/backend_bases.py:2043\u001b[0m, in \u001b[0;36mFigureCanvasBase._switch_canvas_and_return_print_method.<locals>.<lambda>\u001b[0;34m(*args, **kwargs)\u001b[0m\n\u001b[1;32m   2039\u001b[0m     optional_kws \u001b[39m=\u001b[39m {  \u001b[39m# Passed by print_figure for other renderers.\u001b[39;00m\n\u001b[1;32m   2040\u001b[0m         \u001b[39m\"\u001b[39m\u001b[39mdpi\u001b[39m\u001b[39m\"\u001b[39m, \u001b[39m\"\u001b[39m\u001b[39mfacecolor\u001b[39m\u001b[39m\"\u001b[39m, \u001b[39m\"\u001b[39m\u001b[39medgecolor\u001b[39m\u001b[39m\"\u001b[39m, \u001b[39m\"\u001b[39m\u001b[39morientation\u001b[39m\u001b[39m\"\u001b[39m,\n\u001b[1;32m   2041\u001b[0m         \u001b[39m\"\u001b[39m\u001b[39mbbox_inches_restore\u001b[39m\u001b[39m\"\u001b[39m}\n\u001b[1;32m   2042\u001b[0m     skip \u001b[39m=\u001b[39m optional_kws \u001b[39m-\u001b[39m {\u001b[39m*\u001b[39minspect\u001b[39m.\u001b[39msignature(meth)\u001b[39m.\u001b[39mparameters}\n\u001b[0;32m-> 2043\u001b[0m     print_method \u001b[39m=\u001b[39m functools\u001b[39m.\u001b[39mwraps(meth)(\u001b[39mlambda\u001b[39;00m \u001b[39m*\u001b[39margs, \u001b[39m*\u001b[39m\u001b[39m*\u001b[39mkwargs: meth(\n\u001b[1;32m   2044\u001b[0m         \u001b[39m*\u001b[39;49margs, \u001b[39m*\u001b[39;49m\u001b[39m*\u001b[39;49m{k: v \u001b[39mfor\u001b[39;49;00m k, v \u001b[39min\u001b[39;49;00m kwargs\u001b[39m.\u001b[39;49mitems() \u001b[39mif\u001b[39;49;00m k \u001b[39mnot\u001b[39;49;00m \u001b[39min\u001b[39;49;00m skip}))\n\u001b[1;32m   2045\u001b[0m \u001b[39melse\u001b[39;00m:  \u001b[39m# Let third-parties do as they see fit.\u001b[39;00m\n\u001b[1;32m   2046\u001b[0m     print_method \u001b[39m=\u001b[39m meth\n",
      "File \u001b[0;32m/Library/Frameworks/Python.framework/Versions/3.10/lib/python3.10/site-packages/matplotlib/backends/backend_agg.py:433\u001b[0m, in \u001b[0;36mFigureCanvasAgg.print_raw\u001b[0;34m(self, filename_or_obj, metadata)\u001b[0m\n\u001b[1;32m    431\u001b[0m \u001b[39mif\u001b[39;00m metadata \u001b[39mis\u001b[39;00m \u001b[39mnot\u001b[39;00m \u001b[39mNone\u001b[39;00m:\n\u001b[1;32m    432\u001b[0m     \u001b[39mraise\u001b[39;00m \u001b[39mValueError\u001b[39;00m(\u001b[39m\"\u001b[39m\u001b[39mmetadata not supported for raw/rgba\u001b[39m\u001b[39m\"\u001b[39m)\n\u001b[0;32m--> 433\u001b[0m FigureCanvasAgg\u001b[39m.\u001b[39;49mdraw(\u001b[39mself\u001b[39;49m)\n\u001b[1;32m    434\u001b[0m renderer \u001b[39m=\u001b[39m \u001b[39mself\u001b[39m\u001b[39m.\u001b[39mget_renderer()\n\u001b[1;32m    435\u001b[0m \u001b[39mwith\u001b[39;00m cbook\u001b[39m.\u001b[39mopen_file_cm(filename_or_obj, \u001b[39m\"\u001b[39m\u001b[39mwb\u001b[39m\u001b[39m\"\u001b[39m) \u001b[39mas\u001b[39;00m fh:\n",
      "File \u001b[0;32m/Library/Frameworks/Python.framework/Versions/3.10/lib/python3.10/site-packages/matplotlib/backends/backend_agg.py:388\u001b[0m, in \u001b[0;36mFigureCanvasAgg.draw\u001b[0;34m(self)\u001b[0m\n\u001b[1;32m    385\u001b[0m \u001b[39m# Acquire a lock on the shared font cache.\u001b[39;00m\n\u001b[1;32m    386\u001b[0m \u001b[39mwith\u001b[39;00m (\u001b[39mself\u001b[39m\u001b[39m.\u001b[39mtoolbar\u001b[39m.\u001b[39m_wait_cursor_for_draw_cm() \u001b[39mif\u001b[39;00m \u001b[39mself\u001b[39m\u001b[39m.\u001b[39mtoolbar\n\u001b[1;32m    387\u001b[0m       \u001b[39melse\u001b[39;00m nullcontext()):\n\u001b[0;32m--> 388\u001b[0m     \u001b[39mself\u001b[39;49m\u001b[39m.\u001b[39;49mfigure\u001b[39m.\u001b[39;49mdraw(\u001b[39mself\u001b[39;49m\u001b[39m.\u001b[39;49mrenderer)\n\u001b[1;32m    389\u001b[0m     \u001b[39m# A GUI class may be need to update a window using this draw, so\u001b[39;00m\n\u001b[1;32m    390\u001b[0m     \u001b[39m# don't forget to call the superclass.\u001b[39;00m\n\u001b[1;32m    391\u001b[0m     \u001b[39msuper\u001b[39m()\u001b[39m.\u001b[39mdraw()\n",
      "File \u001b[0;32m/Library/Frameworks/Python.framework/Versions/3.10/lib/python3.10/site-packages/matplotlib/artist.py:95\u001b[0m, in \u001b[0;36m_finalize_rasterization.<locals>.draw_wrapper\u001b[0;34m(artist, renderer, *args, **kwargs)\u001b[0m\n\u001b[1;32m     93\u001b[0m \u001b[39m@wraps\u001b[39m(draw)\n\u001b[1;32m     94\u001b[0m \u001b[39mdef\u001b[39;00m \u001b[39mdraw_wrapper\u001b[39m(artist, renderer, \u001b[39m*\u001b[39margs, \u001b[39m*\u001b[39m\u001b[39m*\u001b[39mkwargs):\n\u001b[0;32m---> 95\u001b[0m     result \u001b[39m=\u001b[39m draw(artist, renderer, \u001b[39m*\u001b[39;49margs, \u001b[39m*\u001b[39;49m\u001b[39m*\u001b[39;49mkwargs)\n\u001b[1;32m     96\u001b[0m     \u001b[39mif\u001b[39;00m renderer\u001b[39m.\u001b[39m_rasterizing:\n\u001b[1;32m     97\u001b[0m         renderer\u001b[39m.\u001b[39mstop_rasterizing()\n",
      "File \u001b[0;32m/Library/Frameworks/Python.framework/Versions/3.10/lib/python3.10/site-packages/matplotlib/artist.py:72\u001b[0m, in \u001b[0;36mallow_rasterization.<locals>.draw_wrapper\u001b[0;34m(artist, renderer)\u001b[0m\n\u001b[1;32m     69\u001b[0m     \u001b[39mif\u001b[39;00m artist\u001b[39m.\u001b[39mget_agg_filter() \u001b[39mis\u001b[39;00m \u001b[39mnot\u001b[39;00m \u001b[39mNone\u001b[39;00m:\n\u001b[1;32m     70\u001b[0m         renderer\u001b[39m.\u001b[39mstart_filter()\n\u001b[0;32m---> 72\u001b[0m     \u001b[39mreturn\u001b[39;00m draw(artist, renderer)\n\u001b[1;32m     73\u001b[0m \u001b[39mfinally\u001b[39;00m:\n\u001b[1;32m     74\u001b[0m     \u001b[39mif\u001b[39;00m artist\u001b[39m.\u001b[39mget_agg_filter() \u001b[39mis\u001b[39;00m \u001b[39mnot\u001b[39;00m \u001b[39mNone\u001b[39;00m:\n",
      "File \u001b[0;32m/Library/Frameworks/Python.framework/Versions/3.10/lib/python3.10/site-packages/matplotlib/figure.py:3154\u001b[0m, in \u001b[0;36mFigure.draw\u001b[0;34m(self, renderer)\u001b[0m\n\u001b[1;32m   3151\u001b[0m         \u001b[39m# ValueError can occur when resizing a window.\u001b[39;00m\n\u001b[1;32m   3153\u001b[0m \u001b[39mself\u001b[39m\u001b[39m.\u001b[39mpatch\u001b[39m.\u001b[39mdraw(renderer)\n\u001b[0;32m-> 3154\u001b[0m mimage\u001b[39m.\u001b[39;49m_draw_list_compositing_images(\n\u001b[1;32m   3155\u001b[0m     renderer, \u001b[39mself\u001b[39;49m, artists, \u001b[39mself\u001b[39;49m\u001b[39m.\u001b[39;49msuppressComposite)\n\u001b[1;32m   3157\u001b[0m \u001b[39mfor\u001b[39;00m sfig \u001b[39min\u001b[39;00m \u001b[39mself\u001b[39m\u001b[39m.\u001b[39msubfigs:\n\u001b[1;32m   3158\u001b[0m     sfig\u001b[39m.\u001b[39mdraw(renderer)\n",
      "File \u001b[0;32m/Library/Frameworks/Python.framework/Versions/3.10/lib/python3.10/site-packages/matplotlib/image.py:132\u001b[0m, in \u001b[0;36m_draw_list_compositing_images\u001b[0;34m(renderer, parent, artists, suppress_composite)\u001b[0m\n\u001b[1;32m    130\u001b[0m \u001b[39mif\u001b[39;00m not_composite \u001b[39mor\u001b[39;00m \u001b[39mnot\u001b[39;00m has_images:\n\u001b[1;32m    131\u001b[0m     \u001b[39mfor\u001b[39;00m a \u001b[39min\u001b[39;00m artists:\n\u001b[0;32m--> 132\u001b[0m         a\u001b[39m.\u001b[39;49mdraw(renderer)\n\u001b[1;32m    133\u001b[0m \u001b[39melse\u001b[39;00m:\n\u001b[1;32m    134\u001b[0m     \u001b[39m# Composite any adjacent images together\u001b[39;00m\n\u001b[1;32m    135\u001b[0m     image_group \u001b[39m=\u001b[39m []\n",
      "File \u001b[0;32m/Library/Frameworks/Python.framework/Versions/3.10/lib/python3.10/site-packages/matplotlib/artist.py:72\u001b[0m, in \u001b[0;36mallow_rasterization.<locals>.draw_wrapper\u001b[0;34m(artist, renderer)\u001b[0m\n\u001b[1;32m     69\u001b[0m     \u001b[39mif\u001b[39;00m artist\u001b[39m.\u001b[39mget_agg_filter() \u001b[39mis\u001b[39;00m \u001b[39mnot\u001b[39;00m \u001b[39mNone\u001b[39;00m:\n\u001b[1;32m     70\u001b[0m         renderer\u001b[39m.\u001b[39mstart_filter()\n\u001b[0;32m---> 72\u001b[0m     \u001b[39mreturn\u001b[39;00m draw(artist, renderer)\n\u001b[1;32m     73\u001b[0m \u001b[39mfinally\u001b[39;00m:\n\u001b[1;32m     74\u001b[0m     \u001b[39mif\u001b[39;00m artist\u001b[39m.\u001b[39mget_agg_filter() \u001b[39mis\u001b[39;00m \u001b[39mnot\u001b[39;00m \u001b[39mNone\u001b[39;00m:\n",
      "File \u001b[0;32m/Library/Frameworks/Python.framework/Versions/3.10/lib/python3.10/site-packages/mpl_toolkits/mplot3d/axes3d.py:494\u001b[0m, in \u001b[0;36mAxes3D.draw\u001b[0;34m(self, renderer)\u001b[0m\n\u001b[1;32m    492\u001b[0m     \u001b[39m# Then axes, labels, text, and ticks\u001b[39;00m\n\u001b[1;32m    493\u001b[0m     \u001b[39mfor\u001b[39;00m axis \u001b[39min\u001b[39;00m \u001b[39mself\u001b[39m\u001b[39m.\u001b[39m_axis_map\u001b[39m.\u001b[39mvalues():\n\u001b[0;32m--> 494\u001b[0m         axis\u001b[39m.\u001b[39;49mdraw(renderer)\n\u001b[1;32m    496\u001b[0m \u001b[39m# Then rest\u001b[39;00m\n\u001b[1;32m    497\u001b[0m \u001b[39msuper\u001b[39m()\u001b[39m.\u001b[39mdraw(renderer)\n",
      "File \u001b[0;32m/Library/Frameworks/Python.framework/Versions/3.10/lib/python3.10/site-packages/matplotlib/artist.py:72\u001b[0m, in \u001b[0;36mallow_rasterization.<locals>.draw_wrapper\u001b[0;34m(artist, renderer)\u001b[0m\n\u001b[1;32m     69\u001b[0m     \u001b[39mif\u001b[39;00m artist\u001b[39m.\u001b[39mget_agg_filter() \u001b[39mis\u001b[39;00m \u001b[39mnot\u001b[39;00m \u001b[39mNone\u001b[39;00m:\n\u001b[1;32m     70\u001b[0m         renderer\u001b[39m.\u001b[39mstart_filter()\n\u001b[0;32m---> 72\u001b[0m     \u001b[39mreturn\u001b[39;00m draw(artist, renderer)\n\u001b[1;32m     73\u001b[0m \u001b[39mfinally\u001b[39;00m:\n\u001b[1;32m     74\u001b[0m     \u001b[39mif\u001b[39;00m artist\u001b[39m.\u001b[39mget_agg_filter() \u001b[39mis\u001b[39;00m \u001b[39mnot\u001b[39;00m \u001b[39mNone\u001b[39;00m:\n",
      "File \u001b[0;32m/Library/Frameworks/Python.framework/Versions/3.10/lib/python3.10/site-packages/mpl_toolkits/mplot3d/axis3d.py:614\u001b[0m, in \u001b[0;36mAxis.draw\u001b[0;34m(self, renderer)\u001b[0m\n\u001b[1;32m    611\u001b[0m \u001b[39mself\u001b[39m\u001b[39m.\u001b[39mline\u001b[39m.\u001b[39mdraw(renderer)\n\u001b[1;32m    613\u001b[0m \u001b[39m# Draw ticks\u001b[39;00m\n\u001b[0;32m--> 614\u001b[0m \u001b[39mself\u001b[39;49m\u001b[39m.\u001b[39;49m_draw_ticks(renderer, edgep1, centers, deltas, highs,\n\u001b[1;32m    615\u001b[0m                  deltas_per_point, pos)\n\u001b[1;32m    617\u001b[0m \u001b[39m# Draw Offset text\u001b[39;00m\n\u001b[1;32m    618\u001b[0m \u001b[39mself\u001b[39m\u001b[39m.\u001b[39m_draw_offset_text(renderer, edgep1, edgep2, labeldeltas,\n\u001b[1;32m    619\u001b[0m                        centers, highs, pep, dx, dy)\n",
      "File \u001b[0;32m/Library/Frameworks/Python.framework/Versions/3.10/lib/python3.10/site-packages/mpl_toolkits/mplot3d/axis3d.py:482\u001b[0m, in \u001b[0;36mAxis._draw_ticks\u001b[0;34m(self, renderer, edgep1, centers, deltas, highs, deltas_per_point, pos)\u001b[0m\n\u001b[1;32m    480\u001b[0m _tick_update_position(tick, (x1, x2), (y1, y2), (lx, ly))\n\u001b[1;32m    481\u001b[0m tick\u001b[39m.\u001b[39mtick1line\u001b[39m.\u001b[39mset_linewidth(tick_lw[tick\u001b[39m.\u001b[39m_major])\n\u001b[0;32m--> 482\u001b[0m tick\u001b[39m.\u001b[39;49mdraw(renderer)\n",
      "File \u001b[0;32m/Library/Frameworks/Python.framework/Versions/3.10/lib/python3.10/site-packages/matplotlib/artist.py:72\u001b[0m, in \u001b[0;36mallow_rasterization.<locals>.draw_wrapper\u001b[0;34m(artist, renderer)\u001b[0m\n\u001b[1;32m     69\u001b[0m     \u001b[39mif\u001b[39;00m artist\u001b[39m.\u001b[39mget_agg_filter() \u001b[39mis\u001b[39;00m \u001b[39mnot\u001b[39;00m \u001b[39mNone\u001b[39;00m:\n\u001b[1;32m     70\u001b[0m         renderer\u001b[39m.\u001b[39mstart_filter()\n\u001b[0;32m---> 72\u001b[0m     \u001b[39mreturn\u001b[39;00m draw(artist, renderer)\n\u001b[1;32m     73\u001b[0m \u001b[39mfinally\u001b[39;00m:\n\u001b[1;32m     74\u001b[0m     \u001b[39mif\u001b[39;00m artist\u001b[39m.\u001b[39mget_agg_filter() \u001b[39mis\u001b[39;00m \u001b[39mnot\u001b[39;00m \u001b[39mNone\u001b[39;00m:\n",
      "File \u001b[0;32m/Library/Frameworks/Python.framework/Versions/3.10/lib/python3.10/site-packages/matplotlib/axis.py:295\u001b[0m, in \u001b[0;36mTick.draw\u001b[0;34m(self, renderer)\u001b[0m\n\u001b[1;32m    292\u001b[0m renderer\u001b[39m.\u001b[39mopen_group(\u001b[39mself\u001b[39m\u001b[39m.\u001b[39m\u001b[39m__name__\u001b[39m, gid\u001b[39m=\u001b[39m\u001b[39mself\u001b[39m\u001b[39m.\u001b[39mget_gid())\n\u001b[1;32m    293\u001b[0m \u001b[39mfor\u001b[39;00m artist \u001b[39min\u001b[39;00m [\u001b[39mself\u001b[39m\u001b[39m.\u001b[39mgridline, \u001b[39mself\u001b[39m\u001b[39m.\u001b[39mtick1line, \u001b[39mself\u001b[39m\u001b[39m.\u001b[39mtick2line,\n\u001b[1;32m    294\u001b[0m                \u001b[39mself\u001b[39m\u001b[39m.\u001b[39mlabel1, \u001b[39mself\u001b[39m\u001b[39m.\u001b[39mlabel2]:\n\u001b[0;32m--> 295\u001b[0m     artist\u001b[39m.\u001b[39;49mdraw(renderer)\n\u001b[1;32m    296\u001b[0m renderer\u001b[39m.\u001b[39mclose_group(\u001b[39mself\u001b[39m\u001b[39m.\u001b[39m\u001b[39m__name__\u001b[39m)\n\u001b[1;32m    297\u001b[0m \u001b[39mself\u001b[39m\u001b[39m.\u001b[39mstale \u001b[39m=\u001b[39m \u001b[39mFalse\u001b[39;00m\n",
      "File \u001b[0;32m/Library/Frameworks/Python.framework/Versions/3.10/lib/python3.10/site-packages/matplotlib/artist.py:72\u001b[0m, in \u001b[0;36mallow_rasterization.<locals>.draw_wrapper\u001b[0;34m(artist, renderer)\u001b[0m\n\u001b[1;32m     69\u001b[0m     \u001b[39mif\u001b[39;00m artist\u001b[39m.\u001b[39mget_agg_filter() \u001b[39mis\u001b[39;00m \u001b[39mnot\u001b[39;00m \u001b[39mNone\u001b[39;00m:\n\u001b[1;32m     70\u001b[0m         renderer\u001b[39m.\u001b[39mstart_filter()\n\u001b[0;32m---> 72\u001b[0m     \u001b[39mreturn\u001b[39;00m draw(artist, renderer)\n\u001b[1;32m     73\u001b[0m \u001b[39mfinally\u001b[39;00m:\n\u001b[1;32m     74\u001b[0m     \u001b[39mif\u001b[39;00m artist\u001b[39m.\u001b[39mget_agg_filter() \u001b[39mis\u001b[39;00m \u001b[39mnot\u001b[39;00m \u001b[39mNone\u001b[39;00m:\n",
      "File \u001b[0;32m/Library/Frameworks/Python.framework/Versions/3.10/lib/python3.10/site-packages/matplotlib/text.py:797\u001b[0m, in \u001b[0;36mText.draw\u001b[0;34m(self, renderer)\u001b[0m\n\u001b[1;32m    793\u001b[0m             textrenderer\u001b[39m.\u001b[39mdraw_tex(gc, x, y, clean_line,\n\u001b[1;32m    794\u001b[0m                                   \u001b[39mself\u001b[39m\u001b[39m.\u001b[39m_fontproperties, angle,\n\u001b[1;32m    795\u001b[0m                                   mtext\u001b[39m=\u001b[39mmtext)\n\u001b[1;32m    796\u001b[0m         \u001b[39melse\u001b[39;00m:\n\u001b[0;32m--> 797\u001b[0m             textrenderer\u001b[39m.\u001b[39;49mdraw_text(gc, x, y, clean_line,\n\u001b[1;32m    798\u001b[0m                                    \u001b[39mself\u001b[39;49m\u001b[39m.\u001b[39;49m_fontproperties, angle,\n\u001b[1;32m    799\u001b[0m                                    ismath\u001b[39m=\u001b[39;49mismath, mtext\u001b[39m=\u001b[39;49mmtext)\n\u001b[1;32m    801\u001b[0m gc\u001b[39m.\u001b[39mrestore()\n\u001b[1;32m    802\u001b[0m renderer\u001b[39m.\u001b[39mclose_group(\u001b[39m'\u001b[39m\u001b[39mtext\u001b[39m\u001b[39m'\u001b[39m)\n",
      "File \u001b[0;32m/Library/Frameworks/Python.framework/Versions/3.10/lib/python3.10/site-packages/matplotlib/backends/backend_agg.py:191\u001b[0m, in \u001b[0;36mRendererAgg.draw_text\u001b[0;34m(self, gc, x, y, s, prop, angle, ismath, mtext)\u001b[0m\n\u001b[1;32m    189\u001b[0m \u001b[39mif\u001b[39;00m ismath:\n\u001b[1;32m    190\u001b[0m     \u001b[39mreturn\u001b[39;00m \u001b[39mself\u001b[39m\u001b[39m.\u001b[39mdraw_mathtext(gc, x, y, s, prop, angle)\n\u001b[0;32m--> 191\u001b[0m font \u001b[39m=\u001b[39m \u001b[39mself\u001b[39;49m\u001b[39m.\u001b[39;49m_prepare_font(prop)\n\u001b[1;32m    192\u001b[0m \u001b[39m# We pass '0' for angle here, since it will be rotated (in raster\u001b[39;00m\n\u001b[1;32m    193\u001b[0m \u001b[39m# space) in the following call to draw_text_image).\u001b[39;00m\n\u001b[1;32m    194\u001b[0m font\u001b[39m.\u001b[39mset_text(s, \u001b[39m0\u001b[39m, flags\u001b[39m=\u001b[39mget_hinting_flag())\n",
      "File \u001b[0;32m/Library/Frameworks/Python.framework/Versions/3.10/lib/python3.10/site-packages/matplotlib/backends/backend_agg.py:254\u001b[0m, in \u001b[0;36mRendererAgg._prepare_font\u001b[0;34m(self, font_prop)\u001b[0m\n\u001b[1;32m    250\u001b[0m \u001b[39mdef\u001b[39;00m \u001b[39m_prepare_font\u001b[39m(\u001b[39mself\u001b[39m, font_prop):\n\u001b[1;32m    251\u001b[0m \u001b[39m    \u001b[39m\u001b[39m\"\"\"\u001b[39;00m\n\u001b[1;32m    252\u001b[0m \u001b[39m    Get the `.FT2Font` for *font_prop*, clear its buffer, and set its size.\u001b[39;00m\n\u001b[1;32m    253\u001b[0m \u001b[39m    \"\"\"\u001b[39;00m\n\u001b[0;32m--> 254\u001b[0m     font \u001b[39m=\u001b[39m get_font(_fontManager\u001b[39m.\u001b[39;49m_find_fonts_by_props(font_prop))\n\u001b[1;32m    255\u001b[0m     font\u001b[39m.\u001b[39mclear()\n\u001b[1;32m    256\u001b[0m     size \u001b[39m=\u001b[39m font_prop\u001b[39m.\u001b[39mget_size_in_points()\n",
      "File \u001b[0;32m/Library/Frameworks/Python.framework/Versions/3.10/lib/python3.10/site-packages/matplotlib/font_manager.py:1348\u001b[0m, in \u001b[0;36mFontManager._find_fonts_by_props\u001b[0;34m(self, prop, fontext, directory, fallback_to_default, rebuild_if_missing)\u001b[0m\n\u001b[1;32m   1303\u001b[0m \u001b[39mdef\u001b[39;00m \u001b[39m_find_fonts_by_props\u001b[39m(\u001b[39mself\u001b[39m, prop, fontext\u001b[39m=\u001b[39m\u001b[39m'\u001b[39m\u001b[39mttf\u001b[39m\u001b[39m'\u001b[39m, directory\u001b[39m=\u001b[39m\u001b[39mNone\u001b[39;00m,\n\u001b[1;32m   1304\u001b[0m                          fallback_to_default\u001b[39m=\u001b[39m\u001b[39mTrue\u001b[39;00m, rebuild_if_missing\u001b[39m=\u001b[39m\u001b[39mTrue\u001b[39;00m):\n\u001b[1;32m   1305\u001b[0m \u001b[39m    \u001b[39m\u001b[39m\"\"\"\u001b[39;00m\n\u001b[1;32m   1306\u001b[0m \u001b[39m    Find font families that most closely match the given properties.\u001b[39;00m\n\u001b[1;32m   1307\u001b[0m \n\u001b[0;32m   (...)\u001b[0m\n\u001b[1;32m   1345\u001b[0m \u001b[39m    nearest neighbor search.  See `findfont` for more details.\u001b[39;00m\n\u001b[1;32m   1346\u001b[0m \u001b[39m    \"\"\"\u001b[39;00m\n\u001b[0;32m-> 1348\u001b[0m     prop \u001b[39m=\u001b[39m FontProperties\u001b[39m.\u001b[39;49m_from_any(prop)\n\u001b[1;32m   1350\u001b[0m     fpaths \u001b[39m=\u001b[39m []\n\u001b[1;32m   1351\u001b[0m     \u001b[39mfor\u001b[39;00m family \u001b[39min\u001b[39;00m prop\u001b[39m.\u001b[39mget_family():\n",
      "File \u001b[0;32m/Library/Frameworks/Python.framework/Versions/3.10/lib/python3.10/site-packages/matplotlib/font_manager.py:615\u001b[0m, in \u001b[0;36mFontProperties._from_any\u001b[0;34m(cls, arg)\u001b[0m\n\u001b[1;32m    610\u001b[0m     \u001b[39mif\u001b[39;00m (\u001b[39misinstance\u001b[39m(family, \u001b[39mstr\u001b[39m)\n\u001b[1;32m    611\u001b[0m             \u001b[39mand\u001b[39;00m style \u001b[39mis\u001b[39;00m \u001b[39mNone\u001b[39;00m \u001b[39mand\u001b[39;00m variant \u001b[39mis\u001b[39;00m \u001b[39mNone\u001b[39;00m \u001b[39mand\u001b[39;00m weight \u001b[39mis\u001b[39;00m \u001b[39mNone\u001b[39;00m\n\u001b[1;32m    612\u001b[0m             \u001b[39mand\u001b[39;00m stretch \u001b[39mis\u001b[39;00m \u001b[39mNone\u001b[39;00m \u001b[39mand\u001b[39;00m size \u001b[39mis\u001b[39;00m \u001b[39mNone\u001b[39;00m \u001b[39mand\u001b[39;00m fname \u001b[39mis\u001b[39;00m \u001b[39mNone\u001b[39;00m):\n\u001b[1;32m    613\u001b[0m         \u001b[39mself\u001b[39m\u001b[39m.\u001b[39mset_fontconfig_pattern(family)\n\u001b[0;32m--> 615\u001b[0m \u001b[39m@classmethod\u001b[39m\n\u001b[1;32m    616\u001b[0m \u001b[39mdef\u001b[39;00m \u001b[39m_from_any\u001b[39m(\u001b[39mcls\u001b[39m, arg):\n\u001b[1;32m    617\u001b[0m \u001b[39m    \u001b[39m\u001b[39m\"\"\"\u001b[39;00m\n\u001b[1;32m    618\u001b[0m \u001b[39m    Generic constructor which can build a `.FontProperties` from any of the\u001b[39;00m\n\u001b[1;32m    619\u001b[0m \u001b[39m    following:\u001b[39;00m\n\u001b[0;32m   (...)\u001b[0m\n\u001b[1;32m    625\u001b[0m \u001b[39m    - a `dict`: it is passed as ``**kwargs`` to `.FontProperties`.\u001b[39;00m\n\u001b[1;32m    626\u001b[0m \u001b[39m    \"\"\"\u001b[39;00m\n\u001b[1;32m    627\u001b[0m     \u001b[39mif\u001b[39;00m arg \u001b[39mis\u001b[39;00m \u001b[39mNone\u001b[39;00m:\n",
      "\u001b[0;31mKeyboardInterrupt\u001b[0m: "
     ]
    }
   ],
   "source": [
    "\n",
    "# Create a figure and 3D axis for the animation\n",
    "fig = plt.figure()\n",
    "ax = fig.add_subplot(111, projection='3d')\n",
    "# Function to update the 3D plot for each frame\n",
    "def update(frame):\n",
    "    ax.clear()\n",
    "    ax.plot_surface(x, y, u[:,:,frame], cmap=cm.jet)\n",
    "    ax.set_xlabel(\"x\")\n",
    "    ax.set_ylabel(\"y\")\n",
    "    ax.set_zlabel(\"Temperature\")\n",
    "    ax.set_zlim(25,70)\n",
    "    ax.set_xlim(Lx,0)\n",
    "    ax.set_ylim(0,Ly)\n",
    "    ax.set_title(f'Time {np.round(frame*dt+dt,2)} seconds')\n",
    "\n",
    "ani = FuncAnimation(fig, update, frames=range(int(T / dt)), repeat=False, interval = 1)\n",
    "ani.save('animation.gif', fps=30)\n"
   ]
  },
  {
   "cell_type": "code",
   "execution_count": 22,
   "metadata": {},
   "outputs": [],
   "source": [
    "frames = [0, 1, 4, 12, 22, 40]\n",
    "\n",
    "for i in frames:\n",
    "\n",
    "    fig = plt.figure()\n",
    "    ax = fig.add_subplot(111, projection='3d')\n",
    "    ax.clear()\n",
    "    ax.plot_surface(x, y, u[:,:,int(i/dt)], cmap=cm.jet, rstride = 10, cstride = 10)\n",
    "    ax.set_xlabel(\"x\")\n",
    "    ax.set_ylabel(\"y\")\n",
    "    ax.set_zlabel(\"Temperature\")\n",
    "    ax.set_zlim(25,70)\n",
    "    ax.set_xlim(Lx,0)\n",
    "    ax.set_ylim(0,Ly)\n",
    "    ax.set_title(f'Time {i} seconds')\n",
    "\n",
    "    "
   ]
  },
  {
   "cell_type": "code",
   "execution_count": 5,
   "metadata": {},
   "outputs": [
    {
     "name": "stdout",
     "output_type": "stream",
     "text": [
      "u(6,2,40) = 46.9636\n"
     ]
    },
    {
     "data": {
      "text/plain": [
       "[<matplotlib.lines.Line2D at 0x12ef9b430>]"
      ]
     },
     "execution_count": 5,
     "metadata": {},
     "output_type": "execute_result"
    }
   ],
   "source": [
    "# C\n",
    "u_62 = u[int(6/h)][int(2/h)]\n",
    "\n",
    "print(f\"u(6,2,40) = {u_62[-1]:.4f}\")\n",
    "\n",
    "plt.plot(tau,u_62)\n"
   ]
  },
  {
   "cell_type": "code",
   "execution_count": null,
   "metadata": {},
   "outputs": [],
   "source": []
  }
 ],
 "metadata": {
  "kernelspec": {
   "display_name": "Python 3",
   "language": "python",
   "name": "python3"
  },
  "language_info": {
   "codemirror_mode": {
    "name": "ipython",
    "version": 3
   },
   "file_extension": ".py",
   "mimetype": "text/x-python",
   "name": "python",
   "nbconvert_exporter": "python",
   "pygments_lexer": "ipython3",
   "version": "3.10.7"
  },
  "orig_nbformat": 4
 },
 "nbformat": 4,
 "nbformat_minor": 2
}
